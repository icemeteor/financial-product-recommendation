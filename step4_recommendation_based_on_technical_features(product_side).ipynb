{
 "cells": [
  {
   "cell_type": "code",
   "execution_count": 1,
   "metadata": {},
   "outputs": [
    {
     "name": "stderr",
     "output_type": "stream",
     "text": [
      "D:\\anaconda\\lib\\site-packages\\h5py\\__init__.py:36: FutureWarning: Conversion of the second argument of issubdtype from `float` to `np.floating` is deprecated. In future, it will be treated as `np.float64 == np.dtype(float).type`.\n",
      "  from ._conv import register_converters as _register_converters\n"
     ]
    }
   ],
   "source": [
    "import pickle\n",
    "import numpy as np\n",
    "import pandas as pd\n",
    "from IPython.display import  display,Image\n",
    "import tensorflow as tf"
   ]
  },
  {
   "cell_type": "markdown",
   "metadata": {},
   "source": [
    "# Part 1 Read data"
   ]
  },
  {
   "cell_type": "code",
   "execution_count": 2,
   "metadata": {},
   "outputs": [
    {
     "data": {
      "text/html": [
       "<div>\n",
       "<style scoped>\n",
       "    .dataframe tbody tr th:only-of-type {\n",
       "        vertical-align: middle;\n",
       "    }\n",
       "\n",
       "    .dataframe tbody tr th {\n",
       "        vertical-align: top;\n",
       "    }\n",
       "\n",
       "    .dataframe thead th {\n",
       "        text-align: right;\n",
       "    }\n",
       "</style>\n",
       "<table border=\"1\" class=\"dataframe\">\n",
       "  <thead>\n",
       "    <tr style=\"text-align: right;\">\n",
       "      <th></th>\n",
       "      <th>date</th>\n",
       "      <th>open</th>\n",
       "      <th>high</th>\n",
       "      <th>low</th>\n",
       "      <th>close</th>\n",
       "      <th>volume</th>\n",
       "      <th>Name</th>\n",
       "      <th>return</th>\n",
       "      <th>vol_change</th>\n",
       "    </tr>\n",
       "    <tr>\n",
       "      <th>index</th>\n",
       "      <th></th>\n",
       "      <th></th>\n",
       "      <th></th>\n",
       "      <th></th>\n",
       "      <th></th>\n",
       "      <th></th>\n",
       "      <th></th>\n",
       "      <th></th>\n",
       "      <th></th>\n",
       "    </tr>\n",
       "  </thead>\n",
       "  <tbody>\n",
       "    <tr>\n",
       "      <th>2013-03</th>\n",
       "      <td>2013-03-01</td>\n",
       "      <td>41.18</td>\n",
       "      <td>41.9800</td>\n",
       "      <td>40.73</td>\n",
       "      <td>41.93</td>\n",
       "      <td>3089323</td>\n",
       "      <td>A</td>\n",
       "      <td>0.075125</td>\n",
       "      <td>-0.409335</td>\n",
       "    </tr>\n",
       "    <tr>\n",
       "      <th>2013-04</th>\n",
       "      <td>2013-04-01</td>\n",
       "      <td>41.83</td>\n",
       "      <td>41.9771</td>\n",
       "      <td>40.79</td>\n",
       "      <td>40.93</td>\n",
       "      <td>2541331</td>\n",
       "      <td>A</td>\n",
       "      <td>0.024432</td>\n",
       "      <td>0.215632</td>\n",
       "    </tr>\n",
       "    <tr>\n",
       "      <th>2013-05</th>\n",
       "      <td>2013-05-01</td>\n",
       "      <td>41.42</td>\n",
       "      <td>41.7400</td>\n",
       "      <td>41.26</td>\n",
       "      <td>41.31</td>\n",
       "      <td>2726213</td>\n",
       "      <td>A</td>\n",
       "      <td>-0.009199</td>\n",
       "      <td>-0.067816</td>\n",
       "    </tr>\n",
       "    <tr>\n",
       "      <th>2013-06</th>\n",
       "      <td>2013-06-03</td>\n",
       "      <td>45.65</td>\n",
       "      <td>45.8400</td>\n",
       "      <td>45.04</td>\n",
       "      <td>45.51</td>\n",
       "      <td>3677473</td>\n",
       "      <td>A</td>\n",
       "      <td>-0.092287</td>\n",
       "      <td>-0.258672</td>\n",
       "    </tr>\n",
       "    <tr>\n",
       "      <th>2013-07</th>\n",
       "      <td>2013-07-01</td>\n",
       "      <td>43.05</td>\n",
       "      <td>43.7700</td>\n",
       "      <td>42.91</td>\n",
       "      <td>43.59</td>\n",
       "      <td>4283821</td>\n",
       "      <td>A</td>\n",
       "      <td>0.044047</td>\n",
       "      <td>-0.141544</td>\n",
       "    </tr>\n",
       "  </tbody>\n",
       "</table>\n",
       "</div>"
      ],
      "text/plain": [
       "               date   open     high    low  close   volume Name    return  \\\n",
       "index                                                                       \n",
       "2013-03  2013-03-01  41.18  41.9800  40.73  41.93  3089323    A  0.075125   \n",
       "2013-04  2013-04-01  41.83  41.9771  40.79  40.93  2541331    A  0.024432   \n",
       "2013-05  2013-05-01  41.42  41.7400  41.26  41.31  2726213    A -0.009199   \n",
       "2013-06  2013-06-03  45.65  45.8400  45.04  45.51  3677473    A -0.092287   \n",
       "2013-07  2013-07-01  43.05  43.7700  42.91  43.59  4283821    A  0.044047   \n",
       "\n",
       "         vol_change  \n",
       "index                \n",
       "2013-03   -0.409335  \n",
       "2013-04    0.215632  \n",
       "2013-05   -0.067816  \n",
       "2013-06   -0.258672  \n",
       "2013-07   -0.141544  "
      ]
     },
     "execution_count": 2,
     "metadata": {},
     "output_type": "execute_result"
    }
   ],
   "source": [
    "df = pd.read_csv(\"data/df_featured.csv\",index_col=\"index\")\n",
    "df.head()"
   ]
  },
  {
   "cell_type": "code",
   "execution_count": 3,
   "metadata": {},
   "outputs": [
    {
     "data": {
      "text/plain": [
       "(29507, 9)"
      ]
     },
     "execution_count": 3,
     "metadata": {},
     "output_type": "execute_result"
    }
   ],
   "source": [
    "df.shape"
   ]
  },
  {
   "cell_type": "markdown",
   "metadata": {},
   "source": [
    "# Part 2: Recommendation based on \"Return\" Feature <br>\n",
    "\n",
    "#### It is easy to understand that we recommend similar stocks to users, but how should we define similar stocks, similar stock could be explain from multiple perspectives, including fundamental aspects, technical aspects, today we will take technical aspects to make recommendation."
   ]
  },
  {
   "cell_type": "markdown",
   "metadata": {},
   "source": [
    "## Part 2.1 extract one year stock return as target features"
   ]
  },
  {
   "cell_type": "code",
   "execution_count": 4,
   "metadata": {},
   "outputs": [
    {
     "data": {
      "text/html": [
       "<div>\n",
       "<style scoped>\n",
       "    .dataframe tbody tr th:only-of-type {\n",
       "        vertical-align: middle;\n",
       "    }\n",
       "\n",
       "    .dataframe tbody tr th {\n",
       "        vertical-align: top;\n",
       "    }\n",
       "\n",
       "    .dataframe thead th {\n",
       "        text-align: right;\n",
       "    }\n",
       "</style>\n",
       "<table border=\"1\" class=\"dataframe\">\n",
       "  <thead>\n",
       "    <tr style=\"text-align: right;\">\n",
       "      <th></th>\n",
       "      <th></th>\n",
       "      <th>Name</th>\n",
       "      <th>return</th>\n",
       "    </tr>\n",
       "    <tr>\n",
       "      <th>Name</th>\n",
       "      <th>index</th>\n",
       "      <th></th>\n",
       "      <th></th>\n",
       "    </tr>\n",
       "  </thead>\n",
       "  <tbody>\n",
       "    <tr>\n",
       "      <th rowspan=\"5\" valign=\"top\">A</th>\n",
       "      <th>2017-03</th>\n",
       "      <td>A</td>\n",
       "      <td>-0.053420</td>\n",
       "    </tr>\n",
       "    <tr>\n",
       "      <th>2017-04</th>\n",
       "      <td>A</td>\n",
       "      <td>-0.021805</td>\n",
       "    </tr>\n",
       "    <tr>\n",
       "      <th>2017-05</th>\n",
       "      <td>A</td>\n",
       "      <td>-0.046595</td>\n",
       "    </tr>\n",
       "    <tr>\n",
       "      <th>2017-06</th>\n",
       "      <td>A</td>\n",
       "      <td>-0.081179</td>\n",
       "    </tr>\n",
       "    <tr>\n",
       "      <th>2017-07</th>\n",
       "      <td>A</td>\n",
       "      <td>0.027059</td>\n",
       "    </tr>\n",
       "  </tbody>\n",
       "</table>\n",
       "</div>"
      ],
      "text/plain": [
       "             Name    return\n",
       "Name index                 \n",
       "A    2017-03    A -0.053420\n",
       "     2017-04    A -0.021805\n",
       "     2017-05    A -0.046595\n",
       "     2017-06    A -0.081179\n",
       "     2017-07    A  0.027059"
      ]
     },
     "execution_count": 4,
     "metadata": {},
     "output_type": "execute_result"
    }
   ],
   "source": [
    "techFeatures = df[['Name',\"return\"]].groupby(\"Name\").apply(lambda x: x.iloc[-12:,:] if x.shape[0] >= 12 else None)\n",
    "techFeatures.head()"
   ]
  },
  {
   "cell_type": "code",
   "execution_count": 8,
   "metadata": {},
   "outputs": [
    {
     "data": {
      "text/html": [
       "<div>\n",
       "<style scoped>\n",
       "    .dataframe tbody tr th:only-of-type {\n",
       "        vertical-align: middle;\n",
       "    }\n",
       "\n",
       "    .dataframe tbody tr th {\n",
       "        vertical-align: top;\n",
       "    }\n",
       "\n",
       "    .dataframe thead th {\n",
       "        text-align: right;\n",
       "    }\n",
       "</style>\n",
       "<table border=\"1\" class=\"dataframe\">\n",
       "  <thead>\n",
       "    <tr style=\"text-align: right;\">\n",
       "      <th></th>\n",
       "      <th></th>\n",
       "      <th>Name</th>\n",
       "      <th>return</th>\n",
       "    </tr>\n",
       "    <tr>\n",
       "      <th>Name</th>\n",
       "      <th>index</th>\n",
       "      <th></th>\n",
       "      <th></th>\n",
       "    </tr>\n",
       "  </thead>\n",
       "  <tbody>\n",
       "    <tr>\n",
       "      <th rowspan=\"12\" valign=\"top\">A</th>\n",
       "      <th>2017-03</th>\n",
       "      <td>A</td>\n",
       "      <td>-0.053420</td>\n",
       "    </tr>\n",
       "    <tr>\n",
       "      <th>2017-04</th>\n",
       "      <td>A</td>\n",
       "      <td>-0.021805</td>\n",
       "    </tr>\n",
       "    <tr>\n",
       "      <th>2017-05</th>\n",
       "      <td>A</td>\n",
       "      <td>-0.046595</td>\n",
       "    </tr>\n",
       "    <tr>\n",
       "      <th>2017-06</th>\n",
       "      <td>A</td>\n",
       "      <td>-0.081179</td>\n",
       "    </tr>\n",
       "    <tr>\n",
       "      <th>2017-07</th>\n",
       "      <td>A</td>\n",
       "      <td>0.027059</td>\n",
       "    </tr>\n",
       "    <tr>\n",
       "      <th>2017-08</th>\n",
       "      <td>A</td>\n",
       "      <td>-0.013514</td>\n",
       "    </tr>\n",
       "    <tr>\n",
       "      <th>2017-09</th>\n",
       "      <td>A</td>\n",
       "      <td>-0.068966</td>\n",
       "    </tr>\n",
       "    <tr>\n",
       "      <th>2017-10</th>\n",
       "      <td>A</td>\n",
       "      <td>-0.007554</td>\n",
       "    </tr>\n",
       "    <tr>\n",
       "      <th>2017-11</th>\n",
       "      <td>A</td>\n",
       "      <td>-0.046310</td>\n",
       "    </tr>\n",
       "    <tr>\n",
       "      <th>2017-12</th>\n",
       "      <td>A</td>\n",
       "      <td>-0.009754</td>\n",
       "    </tr>\n",
       "    <tr>\n",
       "      <th>2018-01</th>\n",
       "      <td>A</td>\n",
       "      <td>0.016124</td>\n",
       "    </tr>\n",
       "    <tr>\n",
       "      <th>2018-02</th>\n",
       "      <td>A</td>\n",
       "      <td>-0.071811</td>\n",
       "    </tr>\n",
       "    <tr>\n",
       "      <th rowspan=\"12\" valign=\"top\">AAL</th>\n",
       "      <th>2017-03</th>\n",
       "      <td>AAL</td>\n",
       "      <td>-0.064557</td>\n",
       "    </tr>\n",
       "    <tr>\n",
       "      <th>2017-04</th>\n",
       "      <td>AAL</td>\n",
       "      <td>0.109305</td>\n",
       "    </tr>\n",
       "    <tr>\n",
       "      <th>2017-05</th>\n",
       "      <td>AAL</td>\n",
       "      <td>0.008793</td>\n",
       "    </tr>\n",
       "    <tr>\n",
       "      <th>2017-06</th>\n",
       "      <td>AAL</td>\n",
       "      <td>-0.142100</td>\n",
       "    </tr>\n",
       "    <tr>\n",
       "      <th>2017-07</th>\n",
       "      <td>AAL</td>\n",
       "      <td>-0.026593</td>\n",
       "    </tr>\n",
       "    <tr>\n",
       "      <th>2017-08</th>\n",
       "      <td>AAL</td>\n",
       "      <td>-0.013122</td>\n",
       "    </tr>\n",
       "    <tr>\n",
       "      <th>2017-09</th>\n",
       "      <td>AAL</td>\n",
       "      <td>0.126904</td>\n",
       "    </tr>\n",
       "    <tr>\n",
       "      <th>2017-10</th>\n",
       "      <td>AAL</td>\n",
       "      <td>-0.050702</td>\n",
       "    </tr>\n",
       "    <tr>\n",
       "      <th>2017-11</th>\n",
       "      <td>AAL</td>\n",
       "      <td>-0.002299</td>\n",
       "    </tr>\n",
       "    <tr>\n",
       "      <th>2017-12</th>\n",
       "      <td>AAL</td>\n",
       "      <td>-0.023673</td>\n",
       "    </tr>\n",
       "    <tr>\n",
       "      <th>2018-01</th>\n",
       "      <td>AAL</td>\n",
       "      <td>-0.075297</td>\n",
       "    </tr>\n",
       "    <tr>\n",
       "      <th>2018-02</th>\n",
       "      <td>AAL</td>\n",
       "      <td>-0.016518</td>\n",
       "    </tr>\n",
       "    <tr>\n",
       "      <th rowspan=\"6\" valign=\"top\">AAP</th>\n",
       "      <th>2017-03</th>\n",
       "      <td>AAP</td>\n",
       "      <td>0.024955</td>\n",
       "    </tr>\n",
       "    <tr>\n",
       "      <th>2017-04</th>\n",
       "      <td>AAP</td>\n",
       "      <td>0.076838</td>\n",
       "    </tr>\n",
       "    <tr>\n",
       "      <th>2017-05</th>\n",
       "      <td>AAP</td>\n",
       "      <td>0.035366</td>\n",
       "    </tr>\n",
       "    <tr>\n",
       "      <th>2017-06</th>\n",
       "      <td>AAP</td>\n",
       "      <td>0.025018</td>\n",
       "    </tr>\n",
       "    <tr>\n",
       "      <th>2017-07</th>\n",
       "      <td>AAP</td>\n",
       "      <td>0.157841</td>\n",
       "    </tr>\n",
       "    <tr>\n",
       "      <th>2017-08</th>\n",
       "      <td>AAP</td>\n",
       "      <td>0.034329</td>\n",
       "    </tr>\n",
       "    <tr>\n",
       "      <th>...</th>\n",
       "      <th>...</th>\n",
       "      <td>...</td>\n",
       "      <td>...</td>\n",
       "    </tr>\n",
       "    <tr>\n",
       "      <th rowspan=\"6\" valign=\"top\">ZBH</th>\n",
       "      <th>2017-09</th>\n",
       "      <td>ZBH</td>\n",
       "      <td>0.031488</td>\n",
       "    </tr>\n",
       "    <tr>\n",
       "      <th>2017-10</th>\n",
       "      <td>ZBH</td>\n",
       "      <td>-0.028632</td>\n",
       "    </tr>\n",
       "    <tr>\n",
       "      <th>2017-11</th>\n",
       "      <td>ZBH</td>\n",
       "      <td>0.022678</td>\n",
       "    </tr>\n",
       "    <tr>\n",
       "      <th>2017-12</th>\n",
       "      <td>ZBH</td>\n",
       "      <td>0.004539</td>\n",
       "    </tr>\n",
       "    <tr>\n",
       "      <th>2018-01</th>\n",
       "      <td>ZBH</td>\n",
       "      <td>-0.076495</td>\n",
       "    </tr>\n",
       "    <tr>\n",
       "      <th>2018-02</th>\n",
       "      <td>ZBH</td>\n",
       "      <td>-0.032218</td>\n",
       "    </tr>\n",
       "    <tr>\n",
       "      <th rowspan=\"12\" valign=\"top\">ZION</th>\n",
       "      <th>2017-03</th>\n",
       "      <td>ZION</td>\n",
       "      <td>-0.087470</td>\n",
       "    </tr>\n",
       "    <tr>\n",
       "      <th>2017-04</th>\n",
       "      <td>ZION</td>\n",
       "      <td>0.113957</td>\n",
       "    </tr>\n",
       "    <tr>\n",
       "      <th>2017-05</th>\n",
       "      <td>ZION</td>\n",
       "      <td>0.030849</td>\n",
       "    </tr>\n",
       "    <tr>\n",
       "      <th>2017-06</th>\n",
       "      <td>ZION</td>\n",
       "      <td>-0.000740</td>\n",
       "    </tr>\n",
       "    <tr>\n",
       "      <th>2017-07</th>\n",
       "      <td>ZION</td>\n",
       "      <td>-0.093450</td>\n",
       "    </tr>\n",
       "    <tr>\n",
       "      <th>2017-08</th>\n",
       "      <td>ZION</td>\n",
       "      <td>-0.014323</td>\n",
       "    </tr>\n",
       "    <tr>\n",
       "      <th>2017-09</th>\n",
       "      <td>ZION</td>\n",
       "      <td>0.023917</td>\n",
       "    </tr>\n",
       "    <tr>\n",
       "      <th>2017-10</th>\n",
       "      <td>ZION</td>\n",
       "      <td>-0.062606</td>\n",
       "    </tr>\n",
       "    <tr>\n",
       "      <th>2017-11</th>\n",
       "      <td>ZION</td>\n",
       "      <td>0.022934</td>\n",
       "    </tr>\n",
       "    <tr>\n",
       "      <th>2017-12</th>\n",
       "      <td>ZION</td>\n",
       "      <td>-0.077077</td>\n",
       "    </tr>\n",
       "    <tr>\n",
       "      <th>2018-01</th>\n",
       "      <td>ZION</td>\n",
       "      <td>-0.012229</td>\n",
       "    </tr>\n",
       "    <tr>\n",
       "      <th>2018-02</th>\n",
       "      <td>ZION</td>\n",
       "      <td>-0.077846</td>\n",
       "    </tr>\n",
       "    <tr>\n",
       "      <th rowspan=\"12\" valign=\"top\">ZTS</th>\n",
       "      <th>2017-03</th>\n",
       "      <td>ZTS</td>\n",
       "      <td>0.026536</td>\n",
       "    </tr>\n",
       "    <tr>\n",
       "      <th>2017-04</th>\n",
       "      <td>ZTS</td>\n",
       "      <td>0.013541</td>\n",
       "    </tr>\n",
       "    <tr>\n",
       "      <th>2017-05</th>\n",
       "      <td>ZTS</td>\n",
       "      <td>-0.055259</td>\n",
       "    </tr>\n",
       "    <tr>\n",
       "      <th>2017-06</th>\n",
       "      <td>ZTS</td>\n",
       "      <td>-0.101533</td>\n",
       "    </tr>\n",
       "    <tr>\n",
       "      <th>2017-07</th>\n",
       "      <td>ZTS</td>\n",
       "      <td>-0.000479</td>\n",
       "    </tr>\n",
       "    <tr>\n",
       "      <th>2017-08</th>\n",
       "      <td>ZTS</td>\n",
       "      <td>0.008854</td>\n",
       "    </tr>\n",
       "    <tr>\n",
       "      <th>2017-09</th>\n",
       "      <td>ZTS</td>\n",
       "      <td>-0.011929</td>\n",
       "    </tr>\n",
       "    <tr>\n",
       "      <th>2017-10</th>\n",
       "      <td>ZTS</td>\n",
       "      <td>-0.013804</td>\n",
       "    </tr>\n",
       "    <tr>\n",
       "      <th>2017-11</th>\n",
       "      <td>ZTS</td>\n",
       "      <td>-0.011781</td>\n",
       "    </tr>\n",
       "    <tr>\n",
       "      <th>2017-12</th>\n",
       "      <td>ZTS</td>\n",
       "      <td>-0.107746</td>\n",
       "    </tr>\n",
       "    <tr>\n",
       "      <th>2018-01</th>\n",
       "      <td>ZTS</td>\n",
       "      <td>0.007385</td>\n",
       "    </tr>\n",
       "    <tr>\n",
       "      <th>2018-02</th>\n",
       "      <td>ZTS</td>\n",
       "      <td>-0.077744</td>\n",
       "    </tr>\n",
       "  </tbody>\n",
       "</table>\n",
       "<p>6031 rows × 2 columns</p>\n",
       "</div>"
      ],
      "text/plain": [
       "              Name    return\n",
       "Name index                  \n",
       "A    2017-03     A -0.053420\n",
       "     2017-04     A -0.021805\n",
       "     2017-05     A -0.046595\n",
       "     2017-06     A -0.081179\n",
       "     2017-07     A  0.027059\n",
       "     2017-08     A -0.013514\n",
       "     2017-09     A -0.068966\n",
       "     2017-10     A -0.007554\n",
       "     2017-11     A -0.046310\n",
       "     2017-12     A -0.009754\n",
       "     2018-01     A  0.016124\n",
       "     2018-02     A -0.071811\n",
       "AAL  2017-03   AAL -0.064557\n",
       "     2017-04   AAL  0.109305\n",
       "     2017-05   AAL  0.008793\n",
       "     2017-06   AAL -0.142100\n",
       "     2017-07   AAL -0.026593\n",
       "     2017-08   AAL -0.013122\n",
       "     2017-09   AAL  0.126904\n",
       "     2017-10   AAL -0.050702\n",
       "     2017-11   AAL -0.002299\n",
       "     2017-12   AAL -0.023673\n",
       "     2018-01   AAL -0.075297\n",
       "     2018-02   AAL -0.016518\n",
       "AAP  2017-03   AAP  0.024955\n",
       "     2017-04   AAP  0.076838\n",
       "     2017-05   AAP  0.035366\n",
       "     2017-06   AAP  0.025018\n",
       "     2017-07   AAP  0.157841\n",
       "     2017-08   AAP  0.034329\n",
       "...            ...       ...\n",
       "ZBH  2017-09   ZBH  0.031488\n",
       "     2017-10   ZBH -0.028632\n",
       "     2017-11   ZBH  0.022678\n",
       "     2017-12   ZBH  0.004539\n",
       "     2018-01   ZBH -0.076495\n",
       "     2018-02   ZBH -0.032218\n",
       "ZION 2017-03  ZION -0.087470\n",
       "     2017-04  ZION  0.113957\n",
       "     2017-05  ZION  0.030849\n",
       "     2017-06  ZION -0.000740\n",
       "     2017-07  ZION -0.093450\n",
       "     2017-08  ZION -0.014323\n",
       "     2017-09  ZION  0.023917\n",
       "     2017-10  ZION -0.062606\n",
       "     2017-11  ZION  0.022934\n",
       "     2017-12  ZION -0.077077\n",
       "     2018-01  ZION -0.012229\n",
       "     2018-02  ZION -0.077846\n",
       "ZTS  2017-03   ZTS  0.026536\n",
       "     2017-04   ZTS  0.013541\n",
       "     2017-05   ZTS -0.055259\n",
       "     2017-06   ZTS -0.101533\n",
       "     2017-07   ZTS -0.000479\n",
       "     2017-08   ZTS  0.008854\n",
       "     2017-09   ZTS -0.011929\n",
       "     2017-10   ZTS -0.013804\n",
       "     2017-11   ZTS -0.011781\n",
       "     2017-12   ZTS -0.107746\n",
       "     2018-01   ZTS  0.007385\n",
       "     2018-02   ZTS -0.077744\n",
       "\n",
       "[6031 rows x 2 columns]"
      ]
     },
     "execution_count": 8,
     "metadata": {},
     "output_type": "execute_result"
    }
   ],
   "source": [
    "df[['Name',\"return\"]].groupby(\"Name\").apply(lambda x: x.iloc[-12:,:])"
   ]
  },
  {
   "cell_type": "code",
   "execution_count": 9,
   "metadata": {},
   "outputs": [
    {
     "data": {
      "text/html": [
       "<div>\n",
       "<style scoped>\n",
       "    .dataframe tbody tr th:only-of-type {\n",
       "        vertical-align: middle;\n",
       "    }\n",
       "\n",
       "    .dataframe tbody tr th {\n",
       "        vertical-align: top;\n",
       "    }\n",
       "\n",
       "    .dataframe thead th {\n",
       "        text-align: right;\n",
       "    }\n",
       "</style>\n",
       "<table border=\"1\" class=\"dataframe\">\n",
       "  <thead>\n",
       "    <tr style=\"text-align: right;\">\n",
       "      <th></th>\n",
       "      <th>Name</th>\n",
       "      <th>return</th>\n",
       "    </tr>\n",
       "  </thead>\n",
       "  <tbody>\n",
       "    <tr>\n",
       "      <th>0</th>\n",
       "      <td>A</td>\n",
       "      <td>-0.053420</td>\n",
       "    </tr>\n",
       "    <tr>\n",
       "      <th>1</th>\n",
       "      <td>A</td>\n",
       "      <td>-0.021805</td>\n",
       "    </tr>\n",
       "    <tr>\n",
       "      <th>2</th>\n",
       "      <td>A</td>\n",
       "      <td>-0.046595</td>\n",
       "    </tr>\n",
       "    <tr>\n",
       "      <th>3</th>\n",
       "      <td>A</td>\n",
       "      <td>-0.081179</td>\n",
       "    </tr>\n",
       "    <tr>\n",
       "      <th>4</th>\n",
       "      <td>A</td>\n",
       "      <td>0.027059</td>\n",
       "    </tr>\n",
       "  </tbody>\n",
       "</table>\n",
       "</div>"
      ],
      "text/plain": [
       "  Name    return\n",
       "0    A -0.053420\n",
       "1    A -0.021805\n",
       "2    A -0.046595\n",
       "3    A -0.081179\n",
       "4    A  0.027059"
      ]
     },
     "execution_count": 9,
     "metadata": {},
     "output_type": "execute_result"
    }
   ],
   "source": [
    "techFeatures = techFeatures.reset_index(drop=True) ### drop index \n",
    "techFeatures.head()"
   ]
  },
  {
   "cell_type": "code",
   "execution_count": 10,
   "metadata": {},
   "outputs": [],
   "source": [
    "featureSeries = techFeatures.groupby(\"Name\")['return'].apply(np.array)"
   ]
  },
  {
   "cell_type": "code",
   "execution_count": 11,
   "metadata": {},
   "outputs": [
    {
     "data": {
      "text/plain": [
       "Index(['A', 'AAL', 'AAP', 'AAPL', 'ABBV', 'ABC', 'ABT', 'ACN', 'ADBE', 'ADI',\n",
       "       ...\n",
       "       'XL', 'XLNX', 'XOM', 'XRAY', 'XRX', 'XYL', 'YUM', 'ZBH', 'ZION', 'ZTS'],\n",
       "      dtype='object', name='Name', length=500)"
      ]
     },
     "execution_count": 11,
     "metadata": {},
     "output_type": "execute_result"
    }
   ],
   "source": [
    "stocks = featureSeries.index\n",
    "stocks"
   ]
  },
  {
   "cell_type": "code",
   "execution_count": 12,
   "metadata": {},
   "outputs": [
    {
     "name": "stdout",
     "output_type": "stream",
     "text": [
      "Shape of feature arr: (500,) \n"
     ]
    }
   ],
   "source": [
    "### stock feature list\n",
    "print(f\"Shape of feature arr: {featureSeries.values.shape} \")"
   ]
  },
  {
   "cell_type": "code",
   "execution_count": 13,
   "metadata": {},
   "outputs": [
    {
     "name": "stdout",
     "output_type": "stream",
     "text": [
      "Num of unique stocks: 505\n"
     ]
    }
   ],
   "source": [
    "### 505 unique stocks\n",
    "uniqueStocks = df.Name.unique().size\n",
    "print(f\"Num of unique stocks: {uniqueStocks}\")"
   ]
  },
  {
   "cell_type": "code",
   "execution_count": 14,
   "metadata": {},
   "outputs": [
    {
     "name": "stdout",
     "output_type": "stream",
     "text": [
      "Five stocks IPO in recent Year, so they are included\n"
     ]
    }
   ],
   "source": [
    "print(\"Five stocks IPO in recent Year, so they are included\")"
   ]
  },
  {
   "cell_type": "code",
   "execution_count": 15,
   "metadata": {},
   "outputs": [
    {
     "name": "stdout",
     "output_type": "stream",
     "text": [
      "Stock features dimension:  (500, 12)\n"
     ]
    }
   ],
   "source": [
    "features = np.stack(featureSeries.values,axis=0)\n",
    "print(f\"Stock features dimension:  {features.shape}\")"
   ]
  },
  {
   "cell_type": "markdown",
   "metadata": {},
   "source": [
    "## Part 2.2 Generate similarity matrix (cosine similarity)"
   ]
  },
  {
   "cell_type": "code",
   "execution_count": 16,
   "metadata": {},
   "outputs": [
    {
     "data": {
      "image/jpeg": "[encoded data removed]",
      "text/plain": [
       "<IPython.core.display.Image object>"
      ]
     },
     "execution_count": 16,
     "metadata": {},
     "output_type": "execute_result"
    }
   ],
   "source": [
    "Image(\"imgs/cosine_similarity.jpg\")"
   ]
  },
  {
   "cell_type": "markdown",
   "metadata": {},
   "source": [
    "#### Matrix formula"
   ]
  },
  {
   "cell_type": "markdown",
   "metadata": {},
   "source": [
    "A*B = m.T @ m <br>\n",
    "\n",
    "norm = (m * m).sum(0, keepdims=True) ** .5 <br>\n",
    "\n",
    "||A|| = norm(m) <br>\n",
    "||B|| = norm(m.T)"
   ]
  },
  {
   "cell_type": "code",
   "execution_count": 17,
   "metadata": {},
   "outputs": [],
   "source": [
    "def cosine_similarity_matrix(featureMatrix):\n",
    "    '''\n",
    "    calculate cosine similarity for user & item\n",
    "    \n",
    "    default: user is in row, item in column\n",
    "    ''' \n",
    "    M,N = featureMatrix.shape\n",
    "    \n",
    "    featuresTensor = tf.placeholder(tf.float32, shape = (M, N))\n",
    "\n",
    "    # normalize each row\n",
    "    normalized = tf.nn.l2_normalize(featuresTensor, dim = 1)\n",
    "        \n",
    "    prod = tf.matmul(normalized, normalized,adjoint_b = True) # transpose second matrix)\n",
    "                     \n",
    "    with tf.Session() as sess:\n",
    "        ans = sess.run(prod,feed_dict={featuresTensor:featureMatrix})\n",
    "\n",
    "    return ans"
   ]
  },
  {
   "cell_type": "code",
   "execution_count": 18,
   "metadata": {},
   "outputs": [
    {
     "name": "stdout",
     "output_type": "stream",
     "text": [
      "WARNING:tensorflow:From <ipython-input-17-c3624b4d6efa>:12: calling l2_normalize (from tensorflow.python.ops.nn_impl) with dim is deprecated and will be removed in a future version.\n",
      "Instructions for updating:\n",
      "dim is deprecated, use axis instead\n"
     ]
    }
   ],
   "source": [
    "similarityMatrix = cosine_similarity_matrix(features)"
   ]
  },
  {
   "cell_type": "code",
   "execution_count": 19,
   "metadata": {},
   "outputs": [
    {
     "data": {
      "text/plain": [
       "(500, 500)"
      ]
     },
     "execution_count": 19,
     "metadata": {},
     "output_type": "execute_result"
    }
   ],
   "source": [
    "similarityMatrix.shape"
   ]
  },
  {
   "cell_type": "markdown",
   "metadata": {},
   "source": [
    "#### Build recommend function"
   ]
  },
  {
   "cell_type": "code",
   "execution_count": 20,
   "metadata": {},
   "outputs": [],
   "source": [
    "def recommend_to_user(similarityMatrix,productID,top=10):\n",
    "    ### function: If recommend 10 products based on productID provided, for eg: if user is holding Apple, function will recommend 10 stocks that are similar to apply\n",
    "    similarityRow = similarityMatrix[productID]\n",
    "    \n",
    "    similarityTensor = tf.placeholder(tf.float32,shape=(len(similarityRow),))\n",
    "    \n",
    "    top_values, top_indices = tf.nn.top_k(similarityTensor, k=top+1)\n",
    "    \n",
    "    with tf.Session() as sess:\n",
    "        val,idx = sess.run([top_values,top_indices],feed_dict={similarityTensor:similarityRow})\n",
    "        \n",
    "    return val[1:],idx[1:] ### avoid itself\n"
   ]
  },
  {
   "cell_type": "code",
   "execution_count": 21,
   "metadata": {},
   "outputs": [
    {
     "data": {
      "text/plain": [
       "(array([0.9127154 , 0.8666705 , 0.86227864, 0.85794765, 0.8543915 ,\n",
       "        0.84936297, 0.8259804 , 0.81873626, 0.81311655, 0.81231976],\n",
       "       dtype=float32),\n",
       " array([249,  60, 401, 115, 154, 268, 473, 204, 382, 234]))"
      ]
     },
     "execution_count": 21,
     "metadata": {},
     "output_type": "execute_result"
    }
   ],
   "source": [
    "recommend_to_user(similarityMatrix,0)"
   ]
  },
  {
   "cell_type": "markdown",
   "metadata": {},
   "source": [
    "# Part 3 Modulize"
   ]
  },
  {
   "cell_type": "code",
   "execution_count": 22,
   "metadata": {},
   "outputs": [],
   "source": [
    "class recommendor:\n",
    "    def __init__(self):\n",
    "        pass\n",
    "    def train(self,featureMatrix):\n",
    "        self.similarityMatrix = self.cosine_similarity_matrix(featureMatrix)\n",
    "    \n",
    "    def cosine_similarity_matrix(self,featureMatrix):\n",
    "        '''\n",
    "        calculate cosine similarity for user & item\n",
    "\n",
    "        default: user is in row, item in column\n",
    "        ''' \n",
    "        M,N = featureMatrix.shape\n",
    "\n",
    "        featuresTensor = tf.placeholder(tf.float32, shape = (M, N))\n",
    "\n",
    "        # normalize each row\n",
    "        normalized = tf.nn.l2_normalize(featuresTensor, dim = 1)\n",
    "\n",
    "        prod = tf.matmul(normalized, normalized,adjoint_b = True) # transpose second matrix)\n",
    "\n",
    "        with tf.Session() as sess:\n",
    "            ans = sess.run(prod,feed_dict={featuresTensor:featureMatrix})\n",
    "\n",
    "        return ans\n",
    "    \n",
    "\n",
    "    def recommend_to_user(self,productID,top=10,show_detail=True):\n",
    "        ### function: If recommend 10 products based on productID provided, for eg: if user is holding Apple, function will recommend 10 stocks that are similar to apply\n",
    "        similarityRow = self.similarityMatrix[productID]\n",
    "\n",
    "        similarityTensor = tf.placeholder(tf.float32,shape=(len(similarityRow),))\n",
    "\n",
    "        top_values, top_indices = tf.nn.top_k(similarityTensor, k=top+1)\n",
    "\n",
    "        with tf.Session() as sess:\n",
    "            val,idx = sess.run([top_values,top_indices],feed_dict={similarityTensor:similarityRow})\n",
    "\n",
    "        if show_detail:\n",
    "            print(f\"For productID: {productID} ,similar {top} product are: {idx[1:]}, similarity values {val[1:]}\")\n",
    "        return val[1:],idx[1:] ### avoid itself\n"
   ]
  },
  {
   "cell_type": "code",
   "execution_count": 23,
   "metadata": {},
   "outputs": [],
   "source": [
    "myRecommendor = recommendor()"
   ]
  },
  {
   "cell_type": "code",
   "execution_count": 24,
   "metadata": {},
   "outputs": [],
   "source": [
    "myRecommendor.train(features)"
   ]
  },
  {
   "cell_type": "code",
   "execution_count": 25,
   "metadata": {},
   "outputs": [
    {
     "name": "stdout",
     "output_type": "stream",
     "text": [
      "For productID: 10 ,similar 5 product are: [ 32 333  96 116 123], similarity values [0.9016582  0.69438416 0.6479789  0.64523196 0.626183  ]\n"
     ]
    },
    {
     "data": {
      "text/plain": [
       "(array([0.9016582 , 0.69438416, 0.6479789 , 0.64523196, 0.626183  ],\n",
       "       dtype=float32), array([ 32, 333,  96, 116, 123]))"
      ]
     },
     "execution_count": 25,
     "metadata": {},
     "output_type": "execute_result"
    }
   ],
   "source": [
    "myRecommendor.recommend_to_user(productID=10,top=5,show_detail=True)"
   ]
  }
 ],
 "metadata": {
  "kernelspec": {
   "display_name": "Python 3",
   "language": "python",
   "name": "python3"
  },
  "language_info": {
   "codemirror_mode": {
    "name": "ipython",
    "version": 3
   },
   "file_extension": ".py",
   "mimetype": "text/x-python",
   "name": "python",
   "nbconvert_exporter": "python",
   "pygments_lexer": "ipython3",
   "version": "3.6.5"
  }
 },
 "nbformat": 4,
 "nbformat_minor": 2
}
